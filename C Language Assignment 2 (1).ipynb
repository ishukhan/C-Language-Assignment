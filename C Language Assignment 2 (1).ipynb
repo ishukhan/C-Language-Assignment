{
  "metadata": {
    "kernelspec": {
      "display_name": "Pyolite",
      "language": "python",
      "name": "python"
    },
    "language_info": {
      "codemirror_mode": {
        "name": "python",
        "version": 3
      },
      "file_extension": ".py",
      "mimetype": "text/x-python",
      "name": "python",
      "nbconvert_exporter": "python",
      "pygments_lexer": "ipython3",
      "version": "3.8"
    }
  },
  "nbformat_minor": 5,
  "nbformat": 4,
  "cells": [
    {
      "cell_type": "markdown",
      "source":" # Assignment 2\n\n1. Which of the following are real constants?<br>\n      3, ‘A’, 4.5, 3.0, ‘+’, -25, -0.0<br>\n**Ans-** 4.5, 3.0, -0.0.\n\n2. Which of the following are not keywords in C Language?<br>\n   auto, dynamic, static, typedef, define, enum, is, default, this, super<br>\n**Ans-** dynamic, define, is, this, super.\n\n3. Which of the following is not a valid variable name in C language?<br>\n**Ans-** 1age, age_*, +age\n\n4. Can we make a variable with the name switch? (Yes or No)<br>\n**Ans-** Yes.\n\n5. Keywords are defined in the compiler or their meaning is stored in the library?<br>\n**Ans-** Keywords are the reserved words in the programming language that meaning already known by compiler.\n\n6. Where variables are created? (RAM, ROM, Secondary Storage or CPU)<br>\n**Ans-** Variables created in (RAM) Random-access memory.\n\n7. Who developed C Language?<br>\n**Ans-** Dennis Ritchie.\n\n8. When was the C language developed?<br>\n**Ans-** C language devloped in 1972s.\n\n9. What is the name of the operating system which is responsible for the inception of the C language?<br>\n**Ans-** Originally developed in the 1970s, Unix was one of the first operating systems to be written in the C language.\n\n10. Whether C language is a high level or low level programming language?<br>\n**Ans-** C is a high-level language. C is not a “portable assembly language” or any type of assembly language. It is a portable high-level language,. C is not a “low-level language.” Machine language and assembly language are low-level languages.\n",
      "metadata": {},
      "id": "58d4d1ff-bee6-47a0-a35a-a36e9878a4e2"
    }
  ]
}
