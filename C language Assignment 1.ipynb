{
  "metadata": {
    "kernelspec": {
      "display_name": "Pyolite",
      "language": "python",
      "name": "python"
    },
    "language_info": {
      "codemirror_mode": {
        "name": "python",
        "version": 3
      },
      "file_extension": ".py",
      "mimetype": "text/x-python",
      "name": "python",
      "nbconvert_exporter": "python",
      "pygments_lexer": "ipython3",
      "version": "3.8"
    }
  },
  "nbformat_minor": 5,
  "nbformat": 4,
  "cells": [
    {
      "cell_type": "markdown",
      "source": "# Assignment 1\n\n**Q1.** Why do computers understand only binary language?<br>\n**Ans-** Computers use binary to store data. Not only because it's a reliable way of storing the data, but computers only understand 1s and 0s — binary. These levels are referred to as a logic 1 or a logic 0, HIGH or LOW, True or False, ON or OFF. Most logic systems use positive logic, in which case a logic “0” is represented by zero volts and a logic “1” is represented by a higher voltage A computer's main memory consists of transistors that switch between high and low voltage levels — *For Example - sometimes 5V, sometimes 0.*\n\n\n**Q2.** What is the full form of IDE?<br>\n**Ans-** The full form of (IDE) is An integrated development environment.\n\n\n**Q3.** What is the difference between a text editor and a code editor?<br>\n**Ans-** Text editors can view or edit the text. can’t run the code it does not have anything built-in to help you to code. whereas code editors are for editing and running the code(programming).\n\n\n**Q4.** What are the steps to develop software using the C language?<br>\n**Ans-** If your just completed learning C and now you want to build something making your own software then try some Arduino projects or build some games.\n1. Coding Phase.\n2. Compilation Phase.\n3. Linking Phase.\n4. loading Phase.\n5. Execution Phase.\n\n\n## Q5. Explore by Own.\n**a.** What is the latest version of C Language?<br>\n**Ans-** C11. C11 is the current and latest standard of the C programming language and, as the name suggests, this standard was adopted in 2011. The formal document describing the C11 standard is called ISO/IEC 9899:2011.     <!-- 16-june-2022-->\n\n\n**b.** Who developed C Language? <br>\n**Ans-** C, computer programming language developed in the early 1970s by American computer scientist Dennis M. Ritchie at Bell Laboratories (formerly AT&T Bell Laboratories).\n\n\n**c.** What is the difference between System and Application Software?<br>\n**Ans-** System software is a type of computer program that is designed to run a computer's hardware and application programs. *For Example Operating System like macOS, GNU/Linux, Android and Microsoft Windows.* And Application software is a type of computer program that performs a specific personal, educational, and business function *For Example like Microsoft Word, spreadsheets, VLC media player, Firefox or Google Chrome, accounting applications*\n\n\n**d.** How to convert a number from a decimal number system to a binary number system?<br>\n**Ans-** In the conversion of Decimal number to Binary number, we convert base 10 numbers to base 2 numbers using a simple procedure. For example, if the decimal number is (11)₁₀ then its equivalent binary number would be (1011)₂.",
      "metadata": {},
      "id": "f3236528-56cb-4686-8951-acc0dda7ff4c"
    }
  ]
}
